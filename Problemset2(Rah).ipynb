{
 "cells": [
  {
   "cell_type": "code",
   "execution_count": 2,
   "id": "59c06af4",
   "metadata": {},
   "outputs": [
    {
     "data": {
      "text/plain": [
       "6"
      ]
     },
     "execution_count": 2,
     "metadata": {},
     "output_type": "execute_result"
    }
   ],
   "source": [
    "#Question 1\n",
    "\n",
    "a = 0\n",
    "def b():\n",
    " global a\n",
    " a = c(a)\n",
    "def c(a):\n",
    " return a + 2\n",
    "\n",
    "b() # c(a) = 0 ; c(a) then becomes 0 + 2 = 2; hence a = 2.\n",
    "b() #c(a) is now 2; c(a) returns 2 + 2 = 4 ; hence a = 4\n",
    "b() #c(a) is called with a being 4; c(a) returns 4 + 2 = 6; a = 6\n",
    "a"
   ]
  },
  {
   "cell_type": "code",
   "execution_count": 3,
   "id": "66c40554",
   "metadata": {},
   "outputs": [
    {
     "name": "stdout",
     "output_type": "stream",
     "text": [
      "123\n",
      "File idterm.py not found!\n"
     ]
    }
   ],
   "source": [
    "#Question 2\n",
    "\n",
    "def fileLength(filename):\n",
    "    try:\n",
    "        infile = open(filename)\n",
    "        items = infile.read()\n",
    "        infile.close()\n",
    "        print(len(items))\n",
    "    except:\n",
    "        print(\"File \"+filename+\" not found!\")\n",
    "fileLength(\"C:\\Users\\rahul\\Downloads\\Filelength.txt\")\n",
    "fileLength(\"idterm.py\")"
   ]
  },
  {
   "cell_type": "code",
   "execution_count": 7,
   "id": "14dae628",
   "metadata": {},
   "outputs": [
    {
     "name": "stdout",
     "output_type": "stream",
     "text": [
      "['doll', 'firetruck', 'kitten']\n"
     ]
    }
   ],
   "source": [
    "#Question 3\n",
    "\n",
    "class Marsupial:\n",
    "    \n",
    "    def __init__(self):\n",
    "        # empty list\n",
    "        self.pouch = []\n",
    "        \n",
    "    def put_in_pouch(self, item):\n",
    "        # adding to list\n",
    "        self.pouch.append(item)\n",
    "        \n",
    "    def pouch_contents(self):\n",
    "        return self.pouch\n",
    "\n",
    "\n",
    "m = Marsupial()\n",
    "\n",
    "m.put_in_pouch('doll')\n",
    "\n",
    "m.put_in_pouch('firetruck')\n",
    "\n",
    "m.put_in_pouch('kitten')\n",
    "\n",
    "print(m.pouch_contents()) "
   ]
  },
  {
   "cell_type": "code",
   "execution_count": 8,
   "id": "bf6ea0d8",
   "metadata": {},
   "outputs": [
    {
     "name": "stdout",
     "output_type": "stream",
     "text": [
      "I am a Kangaroo located at coordinates (0,0)\n",
      "['doll', 'firetruck', 'kitten']\n",
      "I am a Kangaroo located at coordinates (3,0)\n"
     ]
    }
   ],
   "source": [
    "class Kangaroo(Marsupial):#creating sub-class\n",
    "\n",
    "    def __init__(self, x, y):\n",
    "        super().__init__()#taking x and y\n",
    "        self.x = x\n",
    "        self.y = y\n",
    "\n",
    "    def jump(self, fx, fy):\n",
    "        self.x =self.x+ fx\n",
    "        self.y =self.y+ fy\n",
    "\n",
    "    def __str__(self):#overload the _str_ operator \n",
    "        return f'I am a Kangaroo located at coordinates ({self.x},{self.y})'\n",
    "\n",
    "\n",
    "k = Kangaroo(0,0)\n",
    "print(k) \n",
    "k.put_in_pouch('doll')\n",
    "k.put_in_pouch('firetruck')\n",
    "k.put_in_pouch('kitten')\n",
    "print(k.pouch_contents())\n",
    "k.jump(1,0)\n",
    "k.jump(1,0)\n",
    "k.jump(1,0)\n",
    "print(k)"
   ]
  },
  {
   "cell_type": "code",
   "execution_count": 9,
   "id": "5570c8c3",
   "metadata": {},
   "outputs": [
    {
     "name": "stdout",
     "output_type": "stream",
     "text": [
      "1\n",
      "10\n",
      "5\n",
      "16\n",
      "8\n",
      "4\n",
      "2\n",
      "1\n"
     ]
    }
   ],
   "source": [
    "#Question 4\n",
    "\n",
    "def collatz (x): #defining function\n",
    "    if(x != 1): #checking condition by if (it is not = 1)\n",
    "        print(x ,end ='\\n') #true --> will print the value and will end\n",
    "    if(x == 1): #checking condition by if (it is equal to 1)\n",
    "        print(x ,end ='\\n') #true --> will print the value and will end\n",
    "        return x\n",
    "    if(x%2 == 0): #checking if the remainder will be zero or not, after dividing it by zero\n",
    "        x = x // 2 #will divide and store it in int value\n",
    "        collatz(x) #return x\n",
    "    else:\n",
    "        x= 3*x + 1 #will run if above condition is false; multiplying x with 3 and addind it with 1\n",
    "        collatz(x) #return x\n",
    "\n",
    "\n",
    "collatz(1)\n",
    "collatz(10)"
   ]
  },
  {
   "cell_type": "code",
   "execution_count": 10,
   "id": "6137d73a",
   "metadata": {},
   "outputs": [
    {
     "name": "stdout",
     "output_type": "stream",
     "text": [
      "0\n",
      "1\n",
      "11\n",
      "1001\n"
     ]
    }
   ],
   "source": [
    "#Question 5\n",
    "\n",
    "binary_number =\"\"\n",
    "def binary (n):\n",
    "    global binary_number\n",
    "    if(n!=1): \n",
    "        if(n==0):  \n",
    "            print(\"0\") \n",
    "        else:\n",
    "            a=\"\" \n",
    "            remainder = int(n%2) \n",
    "            a =str(remainder) #converting remainder to string\n",
    "            binary_number+=a\n",
    "            n =int(n/2) \n",
    "            binary(n) #passing input\n",
    "    else:\n",
    "        binary_number +=\"1\" \n",
    "        binary_number = binary_number [::-1] \n",
    "        print(binary_number) \n",
    "        binary_number=\"\"\n",
    "        \n",
    "binary(0)\n",
    "binary(1)\n",
    "binary(3)\n",
    "binary(9)"
   ]
  },
  {
   "cell_type": "code",
   "execution_count": 11,
   "id": "04ccc9b8",
   "metadata": {},
   "outputs": [
    {
     "name": "stdout",
     "output_type": "stream",
     "text": [
      "W3C Mission\n",
      "\tPrinciples\n"
     ]
    }
   ],
   "source": [
    "#Question 6\n",
    "\n",
    "from html.parser import HTMLParser\n",
    "a1='False'\n",
    "a2='False'\n",
    "class HeadingParser(HTMLParser):  \n",
    "    def handle_starttag(self, tag, attrs):\n",
    "        if tag == 'h1':\n",
    "            global a1\n",
    "            a1 = \"True\"\n",
    "        if tag == 'h2':\n",
    "            global a2\n",
    "            a2 = \"True\"  \n",
    "    def handle_endtag(self, tag):\n",
    "        if a1 == \"False\":\n",
    "            pass\n",
    "        if a2 == \"False\":\n",
    "            pass\n",
    "    def handle_data(self, data):\n",
    "        global a1,a2\n",
    "        if a1 == \"True\": \n",
    "            print(data)\n",
    "            a1='False'    \n",
    "        if a2 == \"True\":        \n",
    "            print('\\t',end='')\n",
    "            print(data)\n",
    "            a2 = 'False'\n",
    "infile = open('C:\\Users\\rahul\\Downloads\\w3c.html') \n",
    "content = infile.read() \n",
    "infile.close() \n",
    "hp = HeadingParser() \n",
    "hp.feed(content)"
   ]
  },
  {
   "cell_type": "code",
   "execution_count": 12,
   "id": "637d6d36",
   "metadata": {},
   "outputs": [
    {
     "name": "stdout",
     "output_type": "stream",
     "text": [
      "http://reed.cs.depaul.edu/lperkovic/test1.html\n",
      " http://reed.cs.depaul.edu/lperkovic/test2.html\n",
      "  http://reed.cs.depaul.edu/lperkovic/test4.html\n",
      " http://reed.cs.depaul.edu/lperkovic/test3.html\n",
      "  http://reed.cs.depaul.edu/lperkovic/test4.html\n"
     ]
    }
   ],
   "source": [
    "#Question 7\n",
    "\n",
    "from urllib.request import urlopen\n",
    "from urllib.parse import urljoin\n",
    "from html.parser import HTMLParser\n",
    "\n",
    "class MainFunction(HTMLParser):\n",
    "\n",
    "    def __init__(self, giv_URL):\n",
    "\n",
    "        HTMLParser.__init__(self)\n",
    "        self.givenLinks = giv_URL\n",
    "        self.setURL = []\n",
    "        \n",
    "    def catchLinks(self):\n",
    "        return self.setURL\n",
    "\n",
    "    def handle_starttag(self, tag, attrs):\n",
    "        if tag == 'a':\n",
    "            for attr in attrs:          \n",
    "                if attr[0] == 'href': \n",
    "                    absolute = urljoin(self.givenLinks, attr[1])\n",
    "                    if absolute[:4] == 'http':\n",
    "                        self.setURL.append(absolute)\n",
    "\n",
    "\n",
    "all_Links = []\n",
    "def webdir(giv_URL,depth,index):\n",
    "    global all_Links\n",
    "    res = urlopen(giv_URL)\n",
    "    cont = res.read().decode()\n",
    "    c =MainFunction(giv_URL)\n",
    "    c.feed(cont)\n",
    "    all_Links = c.catchLinks()\n",
    "    print(index*\" \" + giv_URL)\n",
    "    if depth == 0:\n",
    "         return \n",
    "    for i in all_Links: \n",
    "        webdir(i, depth-1, index+1)    \n",
    "\n",
    "\n",
    "webdir('http://reed.cs.depaul.edu/lperkovic/test1.html',2,0)"
   ]
  },
  {
   "cell_type": "code",
   "execution_count": 13,
   "id": "69d19066",
   "metadata": {},
   "outputs": [
    {
     "name": "stdout",
     "output_type": "stream",
     "text": [
      "(24.8,)(28.4,)(27.9,)(27.6,)(4.2,)(8.3,)(15.7,)(10.4,)(13.6,)(20.7,)(27.7,)(22.2,)\n",
      "('Mumbai',)('London',)('Cairo',)\n",
      "('Mumbai', 'India', 'Winter', 24.8, 5.9)('Mumbai', 'India', 'Spring', 28.4, 16.2)('Mumbai', 'India', 'Summer', 27.9, 1549.4)('Mumbai', 'India', 'Fall', 27.6, 346)\n",
      "('Mumbai', 'India', 'Fall', 27.6, 346)('London', 'United Kingdom', 'Fall', 10.4, 218.5)('Cairo', 'Egypt', 'Fall', 22.2, 4.5)\n",
      "('Mumbai', 'India', 'Fall')('London', 'United Kingdom', 'Winter')('London', 'United Kingdom', 'Fall')\n",
      "('Cairo', 'Egypt')('Mumbai', 'India')\n",
      "(27.6,)\n",
      "('Fall', 569.0)('Spring', 192.29999999999998)('Summer', 1706.5)('Winter', 230.1)"
     ]
    }
   ],
   "source": [
    "#Question 8\n",
    "\n",
    "import sqlite3\n",
    "conn = sqlite3.connect('trial.db')\n",
    "conn.execute('''\n",
    "CREATE TABLE IF NOT EXISTS seasonal_records(city text, \n",
    "                      country text, \n",
    "                      season integer, \n",
    "                      temperature integer,\n",
    "                      rainfall integer);''')\n",
    "conn.commit()\n",
    "my_cur = conn.cursor()\n",
    "conn.execute(\"INSERT INTO seasonal_records VALUES('Mumbai', 'India', 'Winter', 24.8, 5.9);\")\n",
    "conn.execute(\"INSERT INTO seasonal_records VALUES('Mumbai', 'India', 'Spring', 28.4, 16.2);\")\n",
    "conn.execute(\"INSERT INTO seasonal_records VALUES('Mumbai', 'India', 'Summer', 27.9, 1549.4);\")\n",
    "conn.execute(\"INSERT INTO seasonal_records VALUES('Mumbai', 'India', 'Fall', 27.6, 346.0);\")\n",
    "conn.execute(\"INSERT INTO seasonal_records VALUES('London', 'United Kingdom', 'Winter', 4.2, 207.7);\")\n",
    "conn.execute(\"INSERT INTO seasonal_records VALUES('London', 'United Kingdom', 'Spring', 8.3, 169.6 );\")\n",
    "conn.execute(\"INSERT INTO seasonal_records VALUES('London', 'United Kingdom', 'Summer', 15.7, 157.0);\")\n",
    "conn.execute(\"INSERT INTO seasonal_records VALUES('London', 'United Kingdom', 'Fall', 10.4, 218.5);\")\n",
    "conn.execute(\"INSERT INTO seasonal_records VALUES('Cairo', 'Egypt', 'Winter', 13.6, 16.5);\")\n",
    "conn.execute(\"INSERT INTO seasonal_records VALUES('Cairo', 'Egypt', 'Spring', 20.7, 6.5);\")\n",
    "conn.execute(\"INSERT INTO seasonal_records VALUES('Cairo', 'Egypt', 'Summer', 27.7, 0.1);\")\n",
    "conn.execute(\"INSERT INTO seasonal_records VALUES('Cairo', 'Egypt', 'Fall', 22.2, 4.5);\")\n",
    "\n",
    "my_cur.execute(\"SELECT temperature from seasonal_records\")\n",
    "my_result =my_cur.fetchall() #query a\n",
    "for x in my_result:\n",
    "  print(x, end=\"\")\n",
    "\n",
    "print()\n",
    "my_cur.execute(\"SELECT DISTINCT(city) from seasonal_records\")\n",
    "my_result = my_cur.fetchall() #query b\n",
    "for x in my_result:\n",
    "  print(x, end=\"\")\n",
    "\n",
    "print()\n",
    "my_cur.execute(\"SELECT * from seasonal_records where country = 'India'\")\n",
    "my_result = my_cur.fetchall() #query c\n",
    "for x in my_result:\n",
    "  print(x, end=\"\")\n",
    "\n",
    "print()\n",
    "my_cur.execute(\"SELECT * from seasonal_records where season = 'Fall'\")\n",
    "my_result = my_cur.fetchall()  #query d\n",
    "for x in my_result:\n",
    "  print(x, end=\"\")\n",
    "\n",
    "print()\n",
    "my_cur.execute(\"SELECT city,country,season from seasonal_records where rainfall BETWEEN 200 and 400\")\n",
    "my_result = my_cur.fetchall()  #query e\n",
    "for x in my_result:\n",
    "  print(x, end=\"\")\n",
    "\n",
    "print()\n",
    "my_cur.execute(\"SELECT city,country from seasonal_records where (season = 'Fall' and temperature > 20) Order BY temperature ASC \")\n",
    "my_result = my_cur.fetchall() #query f\n",
    "for x in my_result:\n",
    "  print(x, end=\"\")\n",
    "\n",
    "print()\n",
    "my_cur.execute(\"SELECT sum(rainfall) from seasonal_records where city = 'Cairo'\")\n",
    "my_result = my_cur.fetchall()  #query g\n",
    "for x in my_result:\n",
    "  print(x, end=\"\")\n",
    "\n",
    "print()\n",
    "my_cur.execute(\"SELECT season, sum(rainfall) from seasonal_records group by season\")\n",
    "my_result = my_cur.fetchall() #query h\n",
    "for x in my_result:\n",
    "  print(x, end=\"\")\n",
    "\n",
    "conn.close()"
   ]
  },
  {
   "cell_type": "code",
   "execution_count": 14,
   "id": "58c0556b",
   "metadata": {},
   "outputs": [
    {
     "name": "stdout",
     "output_type": "stream",
     "text": [
      "['THE', 'QUICK', 'BROWN', 'FOX', 'JUMPS', 'OVER', 'THE', 'LAZY', 'DOG']\n",
      "['the', 'quick', 'brown', 'fox', 'jumps', 'over', 'the', 'lazy', 'dog']\n",
      "[3, 5, 5, 3, 5, 4, 3, 4, 3]\n",
      "[['THE', 'the', 3], ['QUICK', 'quick', 5], ['BROWN', 'brown', 5], ['FOX', 'fox', 3], ['JUMPS', 'jumps', 5], ['OVER', 'over', 4], ['THE', 'the', 3], ['LAZY', 'lazy', 4], ['DOG', 'dog', 3]]\n",
      "['The', 'quick', 'brown', 'fox', 'jumps', 'over', 'the', 'lazy', 'dog']\n"
     ]
    }
   ],
   "source": [
    "#Question 9\n",
    "\n",
    "words = ['The', 'quick', 'brown', 'fox', 'jumps', 'over', 'the', 'lazy', 'dog']\n",
    "print([x.upper() for x in words]) #printing uppercase of given list of words\n",
    "print([x.lower() for x in words]) #printing lowercase of given list of words\n",
    "print([len(x) for x in words]) #printing length of each word in the list\n",
    "print([[x.upper(), x.lower(), len(x)]for x in words]) #printing sub lists containing uppercase,lowercase and length of each word in a list\n",
    "print([x for x in words if len(x) >= 3]) #printing words whose lengths are greater than or equal to 3"
   ]
  },
  {
   "cell_type": "code",
   "execution_count": null,
   "id": "53c5fb20",
   "metadata": {},
   "outputs": [],
   "source": []
  }
 ],
 "metadata": {
  "kernelspec": {
   "display_name": "Python 3 (ipykernel)",
   "language": "python",
   "name": "python3"
  },
  "language_info": {
   "codemirror_mode": {
    "name": "ipython",
    "version": 3
   },
   "file_extension": ".py",
   "mimetype": "text/x-python",
   "name": "python",
   "nbconvert_exporter": "python",
   "pygments_lexer": "ipython3",
   "version": "3.11.5"
  }
 },
 "nbformat": 4,
 "nbformat_minor": 5
}
